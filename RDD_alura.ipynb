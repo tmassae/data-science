{
  "nbformat": 4,
  "nbformat_minor": 0,
  "metadata": {
    "colab": {
      "provenance": [],
      "include_colab_link": true
    },
    "kernelspec": {
      "name": "python3",
      "display_name": "Python 3"
    },
    "language_info": {
      "name": "python"
    }
  },
  "cells": [
    {
      "cell_type": "markdown",
      "metadata": {
        "id": "view-in-github",
        "colab_type": "text"
      },
      "source": [
        "<a href=\"https://colab.research.google.com/github/tmassae/data-science/blob/main/RDD_alura.ipynb\" target=\"_parent\"><img src=\"https://colab.research.google.com/assets/colab-badge.svg\" alt=\"Open In Colab\"/></a>"
      ]
    },
    {
      "cell_type": "markdown",
      "source": [
        "#Instalando pyspark no Colab"
      ],
      "metadata": {
        "id": "FfzkzwyMlAU_"
      }
    },
    {
      "cell_type": "code",
      "source": [
        "!pip install pyspark"
      ],
      "metadata": {
        "id": "zbSZ2osggKG6",
        "colab": {
          "base_uri": "https://localhost:8080/"
        },
        "outputId": "e00c3f15-701f-427b-adf8-c6ef89cbc781"
      },
      "execution_count": 1,
      "outputs": [
        {
          "output_type": "stream",
          "name": "stdout",
          "text": [
            "Looking in indexes: https://pypi.org/simple, https://us-python.pkg.dev/colab-wheels/public/simple/\n",
            "Collecting pyspark\n",
            "  Downloading pyspark-3.3.1.tar.gz (281.4 MB)\n",
            "\u001b[K     |████████████████████████████████| 281.4 MB 43 kB/s \n",
            "\u001b[?25hCollecting py4j==0.10.9.5\n",
            "  Downloading py4j-0.10.9.5-py2.py3-none-any.whl (199 kB)\n",
            "\u001b[K     |████████████████████████████████| 199 kB 60.4 MB/s \n",
            "\u001b[?25hBuilding wheels for collected packages: pyspark\n",
            "  Building wheel for pyspark (setup.py) ... \u001b[?25l\u001b[?25hdone\n",
            "  Created wheel for pyspark: filename=pyspark-3.3.1-py2.py3-none-any.whl size=281845512 sha256=95ccb9cc350b5792860dc7c23a049049e2fd173957b9bdf52bac38a6fa686700\n",
            "  Stored in directory: /root/.cache/pip/wheels/42/59/f5/79a5bf931714dcd201b26025347785f087370a10a3329a899c\n",
            "Successfully built pyspark\n",
            "Installing collected packages: py4j, pyspark\n",
            "Successfully installed py4j-0.10.9.5 pyspark-3.3.1\n"
          ]
        }
      ]
    },
    {
      "cell_type": "markdown",
      "source": [
        "#Importando o SparkContext"
      ],
      "metadata": {
        "id": "w60Q8n6blFIb"
      }
    },
    {
      "cell_type": "code",
      "source": [
        "from pyspark import SparkContext"
      ],
      "metadata": {
        "id": "u8-H64jKf_b_"
      },
      "execution_count": 2,
      "outputs": []
    },
    {
      "cell_type": "markdown",
      "source": [
        "#Criando um contexto para o Spark e colocando na variavel **sc**"
      ],
      "metadata": {
        "id": "g91gMlYflJIg"
      }
    },
    {
      "cell_type": "code",
      "source": [
        "sc = SparkContext()"
      ],
      "metadata": {
        "id": "2cxj1K2zfwK1"
      },
      "execution_count": 3,
      "outputs": []
    },
    {
      "cell_type": "markdown",
      "source": [
        "#Criando uma variavel com nossos dados fictícios "
      ],
      "metadata": {
        "id": "pmoo8yMclU2m"
      }
    },
    {
      "cell_type": "code",
      "source": [
        "data = [1, 2, 3, 4, 5]"
      ],
      "metadata": {
        "id": "F1saBPdUlcf2"
      },
      "execution_count": 4,
      "outputs": []
    },
    {
      "cell_type": "markdown",
      "source": [
        "#Criando nosso RDD\n",
        "com o a função **parallelize** onde passamos por parametro os nossos dados que podem ser uma lista como no exemplo, mas podem vir de várias fontes como arquivos"
      ],
      "metadata": {
        "id": "sx1KllIDldyA"
      }
    },
    {
      "cell_type": "code",
      "execution_count": 5,
      "metadata": {
        "id": "d5OtFLkBfkI6"
      },
      "outputs": [],
      "source": [
        "rdd = sc.parallelize(data)"
      ]
    },
    {
      "cell_type": "markdown",
      "source": [
        "#Operações de RDD podem ser do tipo ação ou do tipo transformação"
      ],
      "metadata": {
        "id": "6coyKZOrmKNY"
      }
    },
    {
      "cell_type": "markdown",
      "source": [
        "#Ação"
      ],
      "metadata": {
        "id": "8a0bhM7wm3QG"
      }
    },
    {
      "cell_type": "markdown",
      "source": [
        "##collect "
      ],
      "metadata": {
        "id": "7DYkZS7jm86u"
      }
    },
    {
      "cell_type": "markdown",
      "source": [
        "Equivalente ao **head** ou **display** no pandas"
      ],
      "metadata": {
        "id": "j_Imv6XPoyzS"
      }
    },
    {
      "cell_type": "code",
      "source": [
        "rdd.collect()"
      ],
      "metadata": {
        "colab": {
          "base_uri": "https://localhost:8080/"
        },
        "id": "DDgrZbeQoqmi",
        "outputId": "971597f6-c4dc-4558-d1a7-73e6d37ddf7c"
      },
      "execution_count": 6,
      "outputs": [
        {
          "output_type": "execute_result",
          "data": {
            "text/plain": [
              "[1, 2, 3, 4, 5]"
            ]
          },
          "metadata": {},
          "execution_count": 6
        }
      ]
    },
    {
      "cell_type": "markdown",
      "source": [
        "##reduce"
      ],
      "metadata": {
        "id": "c6BqYvadm4tY"
      }
    },
    {
      "cell_type": "markdown",
      "source": [
        "Equivalente ao **apply** do Pandas"
      ],
      "metadata": {
        "id": "9p_bpneKpE9J"
      }
    },
    {
      "cell_type": "code",
      "source": [
        "rdd.reduce(lambda x, y : x + y)"
      ],
      "metadata": {
        "colab": {
          "base_uri": "https://localhost:8080/"
        },
        "id": "w1QgUh77oCbz",
        "outputId": "e8ea44f7-d35d-48a3-8bdb-4b2c308da20a"
      },
      "execution_count": 7,
      "outputs": [
        {
          "output_type": "execute_result",
          "data": {
            "text/plain": [
              "15"
            ]
          },
          "metadata": {},
          "execution_count": 7
        }
      ]
    },
    {
      "cell_type": "markdown",
      "source": [
        "##count"
      ],
      "metadata": {
        "id": "Y-ZUBuemnKle"
      }
    },
    {
      "cell_type": "markdown",
      "source": [
        "Equivalente ao count ou size no Pandas"
      ],
      "metadata": {
        "id": "Nsg4dtonr1O2"
      }
    },
    {
      "cell_type": "code",
      "source": [
        "rdd.count()"
      ],
      "metadata": {
        "colab": {
          "base_uri": "https://localhost:8080/"
        },
        "id": "afXHLJ-5rzQa",
        "outputId": "d97d74c6-a8b6-4509-c1f8-c75c61c33cf0"
      },
      "execution_count": 8,
      "outputs": [
        {
          "output_type": "execute_result",
          "data": {
            "text/plain": [
              "5"
            ]
          },
          "metadata": {},
          "execution_count": 8
        }
      ]
    },
    {
      "cell_type": "markdown",
      "source": [
        "#Transformação"
      ],
      "metadata": {
        "id": "r3AKtrEPnS05"
      }
    },
    {
      "cell_type": "markdown",
      "source": [
        "##map"
      ],
      "metadata": {
        "id": "aRNe6zr3nZEO"
      }
    },
    {
      "cell_type": "markdown",
      "source": [
        "INPLACE= False"
      ],
      "metadata": {
        "id": "AVoLq-KLv9sr"
      }
    },
    {
      "cell_type": "code",
      "source": [
        "rdd_2 = rdd.map(lambda x: x + 10)"
      ],
      "metadata": {
        "id": "InG-zK_5rPgb"
      },
      "execution_count": 9,
      "outputs": []
    },
    {
      "cell_type": "code",
      "source": [
        "rdd_2.collect()"
      ],
      "metadata": {
        "colab": {
          "base_uri": "https://localhost:8080/"
        },
        "id": "4cTbhGccrd96",
        "outputId": "ca7e6de5-71b2-4628-8031-20697b26fbf0"
      },
      "execution_count": 10,
      "outputs": [
        {
          "output_type": "execute_result",
          "data": {
            "text/plain": [
              "[11, 12, 13, 14, 15]"
            ]
          },
          "metadata": {},
          "execution_count": 10
        }
      ]
    },
    {
      "cell_type": "code",
      "source": [
        "rdd.collect()"
      ],
      "metadata": {
        "colab": {
          "base_uri": "https://localhost:8080/"
        },
        "id": "Csa6g6qRrZ-j",
        "outputId": "da8d43e5-eb99-466f-8bcb-b66b7c64dff5"
      },
      "execution_count": 11,
      "outputs": [
        {
          "output_type": "execute_result",
          "data": {
            "text/plain": [
              "[1, 2, 3, 4, 5]"
            ]
          },
          "metadata": {},
          "execution_count": 11
        }
      ]
    },
    {
      "cell_type": "markdown",
      "source": [
        "##filter"
      ],
      "metadata": {
        "id": "I2HCGjwvnbG1"
      }
    },
    {
      "cell_type": "code",
      "source": [
        "rdd_3 = rdd.filter(lambda x: x%2 == 0)\n",
        "rdd_3"
      ],
      "metadata": {
        "colab": {
          "base_uri": "https://localhost:8080/"
        },
        "id": "tvKCvTJ-rkgE",
        "outputId": "e2b5b2b2-03ac-461d-dc42-a9e6e0f006f2"
      },
      "execution_count": 12,
      "outputs": [
        {
          "output_type": "execute_result",
          "data": {
            "text/plain": [
              "PythonRDD[4] at RDD at PythonRDD.scala:53"
            ]
          },
          "metadata": {},
          "execution_count": 12
        }
      ]
    },
    {
      "cell_type": "code",
      "source": [
        "rdd_3.collect()"
      ],
      "metadata": {
        "colab": {
          "base_uri": "https://localhost:8080/"
        },
        "id": "L0aziScFrtHb",
        "outputId": "2b98ebdb-9d5c-41c6-e395-02efe725bdd0"
      },
      "execution_count": 13,
      "outputs": [
        {
          "output_type": "execute_result",
          "data": {
            "text/plain": [
              "[2, 4]"
            ]
          },
          "metadata": {},
          "execution_count": 13
        }
      ]
    },
    {
      "cell_type": "code",
      "source": [
        "rdd.collect()"
      ],
      "metadata": {
        "colab": {
          "base_uri": "https://localhost:8080/"
        },
        "id": "dA3oj9pXrwJt",
        "outputId": "feb002cc-ccd3-48cc-e1c2-a9d538b3aedf"
      },
      "execution_count": 14,
      "outputs": [
        {
          "output_type": "execute_result",
          "data": {
            "text/plain": [
              "[1, 2, 3, 4, 5]"
            ]
          },
          "metadata": {},
          "execution_count": 14
        }
      ]
    },
    {
      "cell_type": "markdown",
      "source": [
        "#Finalizando o contexto Spark"
      ],
      "metadata": {
        "id": "_fVMP6hJmzxK"
      }
    },
    {
      "cell_type": "code",
      "source": [
        "sc.stop()"
      ],
      "metadata": {
        "id": "pk3cBXyQ8_3C"
      },
      "execution_count": 15,
      "outputs": []
    }
  ]
}